{
 "cells": [
  {
   "cell_type": "markdown",
   "id": "8cb13b34",
   "metadata": {},
   "source": [
    "# 2. Perceptron"
   ]
  },
  {
   "cell_type": "markdown",
   "id": "bcc4d195",
   "metadata": {},
   "source": [
    "## 2.1 Perceptron とは"
   ]
  },
  {
   "cell_type": "markdown",
   "id": "ac486e93",
   "metadata": {},
   "source": [
    "- 入力信号 $x_1, x_2$、出力 $y$、重み $w_1, w_2$、閾値 $\\theta$\n",
    "$$\n",
    "y=\n",
    "\\begin{cases}\n",
    "    0 & (w_1 x_1 + w_2 x_2 \\le \\theta)\\\\\n",
    "    1 & (\\theta < w_1 x_1 + w_2 x_2)\n",
    "\\end{cases}\\tag{2.1}\n",
    "$$"
   ]
  },
  {
   "cell_type": "markdown",
   "id": "913647ad",
   "metadata": {},
   "source": [
    "## 2.3 Perceptron の実装"
   ]
  },
  {
   "cell_type": "markdown",
   "id": "639e4678",
   "metadata": {},
   "source": [
    "### 2.3.2 重みとバイアスの導入"
   ]
  }
 ],
 "metadata": {
  "kernelspec": {
   "display_name": "Python 3",
   "language": "python",
   "name": "python3"
  },
  "language_info": {
   "name": "python",
   "version": "3.13.7"
  }
 },
 "nbformat": 4,
 "nbformat_minor": 5
}
